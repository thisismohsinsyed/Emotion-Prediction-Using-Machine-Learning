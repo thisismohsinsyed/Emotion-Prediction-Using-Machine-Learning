{
 "cells": [
  {
   "cell_type": "code",
   "execution_count": 1,
   "metadata": {
    "_cell_guid": "b1076dfc-b9ad-4769-8c92-a6c4dae69d19",
    "_uuid": "8f2839f25d086af736a60e9eeb907d3b93b6e0e5",
    "execution": {
     "iopub.execute_input": "2021-11-01T15:32:35.941274Z",
     "iopub.status.busy": "2021-11-01T15:32:35.940849Z",
     "iopub.status.idle": "2021-11-01T15:32:35.975485Z",
     "shell.execute_reply": "2021-11-01T15:32:35.9747Z",
     "shell.execute_reply.started": "2021-11-01T15:32:35.941189Z"
    }
   },
   "outputs": [],
   "source": [
    "# This Python 3 environment comes with many helpful analytics libraries installed\n",
    "# It is defined by the kaggle/python Docker image: https://github.com/kaggle/docker-python\n",
    "# For example, here's several helpful packages to load\n",
    "\n",
    "import numpy as np # linear algebra\n",
    "import pandas as pd # data processing, CSV file I/O (e.g. pd.read_csv)\n",
    "\n",
    "# Input data files are available in the read-only \"../input/\" directory\n",
    "# For example, running this (by clicking run or pressing Shift+Enter) will list all files under the input directory\n",
    "\n"
   ]
  },
  {
   "cell_type": "code",
   "execution_count": 2,
   "metadata": {
    "execution": {
     "iopub.execute_input": "2021-11-01T17:32:09.022Z",
     "iopub.status.busy": "2021-11-01T17:32:09.021619Z",
     "iopub.status.idle": "2021-11-01T17:32:09.129794Z",
     "shell.execute_reply": "2021-11-01T17:32:09.128739Z",
     "shell.execute_reply.started": "2021-11-01T17:32:09.021964Z"
    }
   },
   "outputs": [],
   "source": [
    "import matplotlib.pyplot as plt\n",
    "import numpy as np\n",
    "import scipy\n",
    "import pandas as pd"
   ]
  },
  {
   "cell_type": "code",
   "execution_count": 3,
   "metadata": {
    "execution": {
     "iopub.execute_input": "2021-11-01T17:32:09.581651Z",
     "iopub.status.busy": "2021-11-01T17:32:09.581246Z",
     "iopub.status.idle": "2021-11-01T17:32:15.055182Z",
     "shell.execute_reply": "2021-11-01T17:32:15.054218Z",
     "shell.execute_reply.started": "2021-11-01T17:32:09.581612Z"
    }
   },
   "outputs": [
    {
     "data": {
      "text/html": [
       "<div>\n",
       "<style scoped>\n",
       "    .dataframe tbody tr th:only-of-type {\n",
       "        vertical-align: middle;\n",
       "    }\n",
       "\n",
       "    .dataframe tbody tr th {\n",
       "        vertical-align: top;\n",
       "    }\n",
       "\n",
       "    .dataframe thead th {\n",
       "        text-align: right;\n",
       "    }\n",
       "</style>\n",
       "<table border=\"1\" class=\"dataframe\">\n",
       "  <thead>\n",
       "    <tr style=\"text-align: right;\">\n",
       "      <th></th>\n",
       "      <th>emotion</th>\n",
       "      <th>pixels</th>\n",
       "      <th>Usage</th>\n",
       "    </tr>\n",
       "  </thead>\n",
       "  <tbody>\n",
       "    <tr>\n",
       "      <th>0</th>\n",
       "      <td>0</td>\n",
       "      <td>70 80 82 72 58 58 60 63 54 58 60 48 89 115 121...</td>\n",
       "      <td>Training</td>\n",
       "    </tr>\n",
       "    <tr>\n",
       "      <th>1</th>\n",
       "      <td>0</td>\n",
       "      <td>151 150 147 155 148 133 111 140 170 174 182 15...</td>\n",
       "      <td>Training</td>\n",
       "    </tr>\n",
       "    <tr>\n",
       "      <th>2</th>\n",
       "      <td>2</td>\n",
       "      <td>231 212 156 164 174 138 161 173 182 200 106 38...</td>\n",
       "      <td>Training</td>\n",
       "    </tr>\n",
       "    <tr>\n",
       "      <th>3</th>\n",
       "      <td>4</td>\n",
       "      <td>24 32 36 30 32 23 19 20 30 41 21 22 32 34 21 1...</td>\n",
       "      <td>Training</td>\n",
       "    </tr>\n",
       "    <tr>\n",
       "      <th>4</th>\n",
       "      <td>6</td>\n",
       "      <td>4 0 0 0 0 0 0 0 0 0 0 0 3 15 23 28 48 50 58 84...</td>\n",
       "      <td>Training</td>\n",
       "    </tr>\n",
       "  </tbody>\n",
       "</table>\n",
       "</div>"
      ],
      "text/plain": [
       "   emotion                                             pixels     Usage\n",
       "0        0  70 80 82 72 58 58 60 63 54 58 60 48 89 115 121...  Training\n",
       "1        0  151 150 147 155 148 133 111 140 170 174 182 15...  Training\n",
       "2        2  231 212 156 164 174 138 161 173 182 200 106 38...  Training\n",
       "3        4  24 32 36 30 32 23 19 20 30 41 21 22 32 34 21 1...  Training\n",
       "4        6  4 0 0 0 0 0 0 0 0 0 0 0 3 15 23 28 48 50 58 84...  Training"
      ]
     },
     "execution_count": 3,
     "metadata": {},
     "output_type": "execute_result"
    }
   ],
   "source": [
    "df = pd.read_csv('fer2013.csv')\n",
    "df.head()"
   ]
  },
  {
   "cell_type": "code",
   "execution_count": 4,
   "metadata": {
    "execution": {
     "iopub.execute_input": "2021-11-01T17:32:15.057158Z",
     "iopub.status.busy": "2021-11-01T17:32:15.056847Z",
     "iopub.status.idle": "2021-11-01T17:32:15.089096Z",
     "shell.execute_reply": "2021-11-01T17:32:15.087517Z",
     "shell.execute_reply.started": "2021-11-01T17:32:15.057128Z"
    }
   },
   "outputs": [
    {
     "name": "stdout",
     "output_type": "stream",
     "text": [
      "<class 'pandas.core.frame.DataFrame'>\n",
      "RangeIndex: 35887 entries, 0 to 35886\n",
      "Data columns (total 3 columns):\n",
      " #   Column   Non-Null Count  Dtype \n",
      "---  ------   --------------  ----- \n",
      " 0   emotion  35887 non-null  int64 \n",
      " 1   pixels   35887 non-null  object\n",
      " 2   Usage    35887 non-null  object\n",
      "dtypes: int64(1), object(2)\n",
      "memory usage: 841.2+ KB\n"
     ]
    }
   ],
   "source": [
    "df.info()"
   ]
  },
  {
   "cell_type": "code",
   "execution_count": 5,
   "metadata": {
    "execution": {
     "iopub.execute_input": "2021-11-01T17:32:15.091823Z",
     "iopub.status.busy": "2021-11-01T17:32:15.091376Z",
     "iopub.status.idle": "2021-11-01T17:32:15.110516Z",
     "shell.execute_reply": "2021-11-01T17:32:15.109196Z",
     "shell.execute_reply.started": "2021-11-01T17:32:15.091779Z"
    }
   },
   "outputs": [
    {
     "data": {
      "text/plain": [
       "Usage\n",
       "Training       28709\n",
       "PublicTest      3589\n",
       "PrivateTest     3589\n",
       "Name: count, dtype: int64"
      ]
     },
     "execution_count": 5,
     "metadata": {},
     "output_type": "execute_result"
    }
   ],
   "source": [
    "#Assigning Names to Emotions in labels\n",
    "\n",
    "num_classes = 7\n",
    "width = 48\n",
    "height = 48\n",
    "emotion_labels = [\"Angry\", \"Disgust\", \"Fear\", \"Happy\", \"Sad\", \"Surprise\", \"Neutral\"]\n",
    "classes=np.array((\"Angry\", \"Disgust\", \"Fear\", \"Happy\", \"Sad\", \"Surprise\", \"Neutral\"))\n",
    "df.Usage.value_counts() "
   ]
  },
  {
   "cell_type": "code",
   "execution_count": 6,
   "metadata": {
    "execution": {
     "iopub.execute_input": "2021-11-01T17:32:15.113196Z",
     "iopub.status.busy": "2021-11-01T17:32:15.112743Z",
     "iopub.status.idle": "2021-11-01T17:32:15.122023Z",
     "shell.execute_reply": "2021-11-01T17:32:15.120582Z",
     "shell.execute_reply.started": "2021-11-01T17:32:15.113153Z"
    }
   },
   "outputs": [],
   "source": [
    "k = np.array(list(map(int,df.iloc[0,1].split(\" \"))),dtype='uint8').reshape((48,48))"
   ]
  },
  {
   "cell_type": "code",
   "execution_count": 7,
   "metadata": {
    "execution": {
     "iopub.execute_input": "2021-11-01T17:32:15.124583Z",
     "iopub.status.busy": "2021-11-01T17:32:15.124052Z",
     "iopub.status.idle": "2021-11-01T17:32:15.13592Z",
     "shell.execute_reply": "2021-11-01T17:32:15.134527Z",
     "shell.execute_reply.started": "2021-11-01T17:32:15.124542Z"
    }
   },
   "outputs": [
    {
     "data": {
      "text/plain": [
       "(48, 48)"
      ]
     },
     "execution_count": 7,
     "metadata": {},
     "output_type": "execute_result"
    }
   ],
   "source": [
    "k.shape"
   ]
  },
  {
   "cell_type": "code",
   "execution_count": 8,
   "metadata": {
    "execution": {
     "iopub.execute_input": "2021-11-01T17:32:15.138284Z",
     "iopub.status.busy": "2021-11-01T17:32:15.137755Z",
     "iopub.status.idle": "2021-11-01T17:32:43.677382Z",
     "shell.execute_reply": "2021-11-01T17:32:43.676112Z",
     "shell.execute_reply.started": "2021-11-01T17:32:15.138227Z"
    }
   },
   "outputs": [],
   "source": [
    "X_train = []\n",
    "y_train = []\n",
    "X_test = []\n",
    "y_test = []\n",
    "for index, row in df.iterrows():\n",
    "    k = row['pixels'].split(\" \")\n",
    "    if row['Usage'] == 'Training':\n",
    "        X_train.append(np.array(k))\n",
    "        y_train.append(row['emotion'])\n",
    "    elif row['Usage'] == 'PublicTest':\n",
    "        X_test.append(np.array(k))\n",
    "        y_test.append(row['emotion'])"
   ]
  },
  {
   "cell_type": "code",
   "execution_count": 9,
   "metadata": {
    "execution": {
     "iopub.execute_input": "2021-11-01T17:32:43.67974Z",
     "iopub.status.busy": "2021-11-01T17:32:43.67932Z",
     "iopub.status.idle": "2021-11-01T17:32:43.687313Z",
     "shell.execute_reply": "2021-11-01T17:32:43.686296Z",
     "shell.execute_reply.started": "2021-11-01T17:32:43.679708Z"
    }
   },
   "outputs": [
    {
     "data": {
      "text/plain": [
       "array(['70', '80', '82', ..., '106', '109', '82'], dtype='<U3')"
      ]
     },
     "execution_count": 9,
     "metadata": {},
     "output_type": "execute_result"
    }
   ],
   "source": [
    "X_train[0]"
   ]
  },
  {
   "cell_type": "code",
   "execution_count": 10,
   "metadata": {
    "execution": {
     "iopub.execute_input": "2021-11-01T17:32:43.689844Z",
     "iopub.status.busy": "2021-11-01T17:32:43.68924Z",
     "iopub.status.idle": "2021-11-01T17:32:43.887386Z",
     "shell.execute_reply": "2021-11-01T17:32:43.886358Z",
     "shell.execute_reply.started": "2021-11-01T17:32:43.689803Z"
    }
   },
   "outputs": [
    {
     "data": {
      "text/plain": [
       "<matplotlib.image.AxesImage at 0x17d0c9c6b90>"
      ]
     },
     "execution_count": 10,
     "metadata": {},
     "output_type": "execute_result"
    },
    {
     "data": {
      "image/png": "[encoded data removed]",
      "text/plain": [
       "<Figure size 640x480 with 1 Axes>"
      ]
     },
     "metadata": {},
     "output_type": "display_data"
    }
   ],
   "source": [
    "plt.imshow(np.array(X_train[0], dtype = 'uint8').reshape(48,48,1), cmap = 'gray')"
   ]
  },
  {
   "cell_type": "code",
   "execution_count": 11,
   "metadata": {
    "execution": {
     "iopub.execute_input": "2021-11-01T17:32:43.889537Z",
     "iopub.status.busy": "2021-11-01T17:32:43.888929Z",
     "iopub.status.idle": "2021-11-01T17:33:30.057631Z",
     "shell.execute_reply": "2021-11-01T17:33:30.05602Z",
     "shell.execute_reply.started": "2021-11-01T17:32:43.889481Z"
    }
   },
   "outputs": [],
   "source": [
    "X_train = np.array(X_train, dtype = 'uint8')\n",
    "y_train = np.array(y_train, dtype = 'uint8')\n",
    "X_test = np.array(X_test, dtype = 'uint8')\n",
    "y_test = np.array(y_test, dtype = 'uint8')"
   ]
  },
  {
   "cell_type": "code",
   "execution_count": 12,
   "metadata": {
    "execution": {
     "iopub.execute_input": "2021-11-01T17:33:30.060256Z",
     "iopub.status.busy": "2021-11-01T17:33:30.059647Z",
     "iopub.status.idle": "2021-11-01T17:33:30.073933Z",
     "shell.execute_reply": "2021-11-01T17:33:30.072879Z",
     "shell.execute_reply.started": "2021-11-01T17:33:30.060204Z"
    }
   },
   "outputs": [],
   "source": [
    "X_train = X_train.reshape(X_train.shape[0], 48, 48, 1)\n",
    "X_test = X_test.reshape(X_test.shape[0], 48, 48, 1)"
   ]
  },
  {
   "cell_type": "code",
   "execution_count": 13,
   "metadata": {
    "execution": {
     "iopub.execute_input": "2021-11-01T17:33:30.076287Z",
     "iopub.status.busy": "2021-11-01T17:33:30.075761Z",
     "iopub.status.idle": "2021-11-01T17:33:30.087422Z",
     "shell.execute_reply": "2021-11-01T17:33:30.08654Z",
     "shell.execute_reply.started": "2021-11-01T17:33:30.076241Z"
    }
   },
   "outputs": [
    {
     "data": {
      "text/plain": [
       "(28709, 48, 48, 1)"
      ]
     },
     "execution_count": 13,
     "metadata": {},
     "output_type": "execute_result"
    }
   ],
   "source": [
    "X_train.shape"
   ]
  },
  {
   "cell_type": "code",
   "execution_count": 14,
   "metadata": {
    "execution": {
     "iopub.execute_input": "2021-11-01T17:33:30.092036Z",
     "iopub.status.busy": "2021-11-01T17:33:30.091393Z",
     "iopub.status.idle": "2021-11-01T17:33:34.987728Z",
     "shell.execute_reply": "2021-11-01T17:33:34.986772Z",
     "shell.execute_reply.started": "2021-11-01T17:33:30.091985Z"
    }
   },
   "outputs": [
    {
     "name": "stdout",
     "output_type": "stream",
     "text": [
      "WARNING:tensorflow:From C:\\Users\\Maverick\\anaconda3\\Lib\\site-packages\\keras\\src\\losses.py:2976: The name tf.losses.sparse_softmax_cross_entropy is deprecated. Please use tf.compat.v1.losses.sparse_softmax_cross_entropy instead.\n",
      "\n"
     ]
    }
   ],
   "source": [
    "import keras\n",
    "from keras.utils import to_categorical\n",
    "y_train= to_categorical(y_train, num_classes=7)\n",
    "y_test = to_categorical(y_test, num_classes=7)"
   ]
  },
  {
   "cell_type": "markdown",
   "metadata": {},
   "source": [
    "### Image Augumentation"
   ]
  },
  {
   "cell_type": "code",
   "execution_count": 15,
   "metadata": {
    "execution": {
     "iopub.execute_input": "2021-11-01T17:33:34.990086Z",
     "iopub.status.busy": "2021-11-01T17:33:34.989689Z",
     "iopub.status.idle": "2021-11-01T17:33:35.123223Z",
     "shell.execute_reply": "2021-11-01T17:33:35.121977Z",
     "shell.execute_reply.started": "2021-11-01T17:33:34.990044Z"
    }
   },
   "outputs": [],
   "source": [
    "from keras.preprocessing.image import ImageDataGenerator \n",
    "datagen = ImageDataGenerator( \n",
    "    rescale=1./255,\n",
    "    rotation_range = 10,\n",
    "    horizontal_flip = True,\n",
    "    width_shift_range=0.1,\n",
    "    height_shift_range=0.1,\n",
    "    fill_mode = 'nearest')\n",
    "\n",
    "testgen = ImageDataGenerator( \n",
    "    rescale=1./255\n",
    "    )\n",
    "datagen.fit(X_train)\n",
    "batch_size = 64"
   ]
  },
  {
   "cell_type": "code",
   "execution_count": 16,
   "metadata": {
    "execution": {
     "iopub.execute_input": "2021-11-01T17:33:35.125346Z",
     "iopub.status.busy": "2021-11-01T17:33:35.12491Z",
     "iopub.status.idle": "2021-11-01T17:33:35.195016Z",
     "shell.execute_reply": "2021-11-01T17:33:35.193983Z",
     "shell.execute_reply.started": "2021-11-01T17:33:35.125303Z"
    }
   },
   "outputs": [],
   "source": [
    "train_flow = datagen.flow(X_train, y_train, batch_size=batch_size) \n",
    "test_flow = testgen.flow(X_test, y_test, batch_size=batch_size)"
   ]
  },
  {
   "cell_type": "code",
   "execution_count": 17,
   "metadata": {
    "execution": {
     "iopub.execute_input": "2021-11-01T17:33:35.197034Z",
     "iopub.status.busy": "2021-11-01T17:33:35.196618Z",
     "iopub.status.idle": "2021-11-01T17:33:35.680308Z",
     "shell.execute_reply": "2021-11-01T17:33:35.679319Z",
     "shell.execute_reply.started": "2021-11-01T17:33:35.196979Z"
    }
   },
   "outputs": [
    {
     "name": "stderr",
     "output_type": "stream",
     "text": [
      "C:\\Users\\Maverick\\AppData\\Local\\Temp\\ipykernel_39508\\2156870284.py:4: MatplotlibDeprecationWarning: Auto-removal of overlapping axes is deprecated since 3.6 and will be removed two minor releases later; explicitly call ax.remove() as needed.\n",
      "  plt.subplot(330 + 1 + i)\n"
     ]
    },
    {
     "data": {
      "image/png": "[encoded data removed]",
      "text/plain": [
       "<Figure size 640x480 with 9 Axes>"
      ]
     },
     "metadata": {},
     "output_type": "display_data"
    }
   ],
   "source": [
    "for X_batch, y_batch in datagen.flow(X_train, y_train, batch_size=9):\n",
    "    for i in range(0, 9): \n",
    "        plt.axis('off') \n",
    "        plt.subplot(330 + 1 + i) \n",
    "        plt.imshow(X_batch[i].reshape(48, 48), cmap=plt.get_cmap('gray'))\n",
    "    plt.axis('off') \n",
    "    plt.show() \n",
    "    break"
   ]
  },
  {
   "cell_type": "markdown",
   "metadata": {},
   "source": [
    "#### Creating Model For Training "
   ]
  },
  {
   "cell_type": "code",
   "execution_count": 21,
   "metadata": {
    "execution": {
     "iopub.execute_input": "2021-11-01T17:33:35.682372Z",
     "iopub.status.busy": "2021-11-01T17:33:35.681797Z",
     "iopub.status.idle": "2021-11-01T17:33:35.688596Z",
     "shell.execute_reply": "2021-11-01T17:33:35.687504Z",
     "shell.execute_reply.started": "2021-11-01T17:33:35.682328Z"
    }
   },
   "outputs": [],
   "source": [
    "from keras.layers import ZeroPadding2D,Convolution2D,MaxPooling2D,Flatten,Dense,Dropout\n",
    "from keras.models import Sequential"
   ]
  },
  {
   "cell_type": "code",
   "execution_count": 23,
   "metadata": {
    "execution": {
     "iopub.execute_input": "2021-11-01T17:33:35.691157Z",
     "iopub.status.busy": "2021-11-01T17:33:35.690409Z",
     "iopub.status.idle": "2021-11-01T17:33:36.563502Z",
     "shell.execute_reply": "2021-11-01T17:33:36.562429Z",
     "shell.execute_reply.started": "2021-11-01T17:33:35.691112Z"
    }
   },
   "outputs": [],
   "source": [
    "from tensorflow.keras.utils import plot_model\n",
    "from tensorflow.keras.models import Model\n",
    "from tensorflow.keras.layers import Input, Dense, Flatten, Dropout, BatchNormalization, Conv2D, MaxPooling2D\n",
    "from tensorflow.keras.layers import concatenate\n",
    "from tensorflow.keras.optimizers import Adam, SGD\n",
    "from tensorflow.keras.regularizers import l1, l2\n",
    "from matplotlib import pyplot as plt\n",
    "from sklearn.metrics import confusion_matrix"
   ]
  },
  {
   "cell_type": "code",
   "execution_count": 26,
   "metadata": {
    "execution": {
     "iopub.execute_input": "2021-11-01T17:33:36.57121Z",
     "iopub.status.busy": "2021-11-01T17:33:36.568669Z",
     "iopub.status.idle": "2021-11-01T17:33:36.608312Z",
     "shell.execute_reply": "2021-11-01T17:33:36.607241Z",
     "shell.execute_reply.started": "2021-11-01T17:33:36.571163Z"
    }
   },
   "outputs": [],
   "source": [
    "from tensorflow.keras.models import Model\n",
    "from tensorflow.keras.layers import Input, Conv2D, BatchNormalization, MaxPooling2D, Dropout, Flatten, Dense\n",
    "\n",
    "def FER_Model(input_shape=(48, 48, 1)):\n",
    "    num_classes = 7\n",
    "    visible = Input(shape=input_shape, name='input')\n",
    "\n",
    "    # The 1st block\n",
    "    conv1_1 = Conv2D(64, kernel_size=3, activation='relu', padding='same', name='conv1_1')(visible)\n",
    "    conv1_1 = BatchNormalization()(conv1_1)\n",
    "    conv1_2 = Conv2D(64, kernel_size=3, activation='relu', padding='same', name='conv1_2')(conv1_1)\n",
    "    conv1_2 = BatchNormalization()(conv1_2)\n",
    "    pool1_1 = MaxPooling2D(pool_size=(2, 2), name='pool1_1')(conv1_2)\n",
    "    drop1_1 = Dropout(0.3, name='drop1_1')(pool1_1)\n",
    "\n",
    "    # The 2nd block\n",
    "    conv2_1 = Conv2D(128, kernel_size=3, activation='relu', padding='same', name='conv2_1')(drop1_1)\n",
    "    conv2_1 = BatchNormalization()(conv2_1)\n",
    "    conv2_2 = Conv2D(128, kernel_size=3, activation='relu', padding='same', name='conv2_2')(conv2_1)\n",
    "    conv2_2 = BatchNormalization()(conv2_2)\n",
    "    conv2_3 = Conv2D(128, kernel_size=3, activation='relu', padding='same', name='conv2_3')(conv2_2)\n",
    "    conv2_3 = BatchNormalization()(conv2_3)\n",
    "    pool2_1 = MaxPooling2D(pool_size=(2, 2), name='pool2_1')(conv2_3)\n",
    "    drop2_1 = Dropout(0.3, name='drop2_1')(pool2_1)\n",
    "\n",
    "    # The 3rd block\n",
    "    conv3_1 = Conv2D(256, kernel_size=3, activation='relu', padding='same', name='conv3_1')(drop2_1)\n",
    "    conv3_1 = BatchNormalization()(conv3_1)\n",
    "    conv3_2 = Conv2D(256, kernel_size=3, activation='relu', padding='same', name='conv3_2')(conv3_1)\n",
    "    conv3_2 = BatchNormalization()(conv3_2)\n",
    "    conv3_3 = Conv2D(256, kernel_size=3, activation='relu', padding='same', name='conv3_3')(conv3_2)\n",
    "    conv3_3 = BatchNormalization()(conv3_3)\n",
    "    conv3_4 = Conv2D(256, kernel_size=3, activation='relu', padding='same', name='conv3_4')(conv3_3)\n",
    "    conv3_4 = BatchNormalization()(conv3_4)\n",
    "    pool3_1 = MaxPooling2D(pool_size=(2, 2), name='pool3_1')(conv3_4)\n",
    "    drop3_1 = Dropout(0.3, name='drop3_1')(pool3_1)\n",
    "\n",
    "    # The 4th block\n",
    "    conv4_1 = Conv2D(256, kernel_size=3, activation='relu', padding='same', name='conv4_1')(drop3_1)\n",
    "    conv4_1 = BatchNormalization()(conv4_1)\n",
    "    conv4_2 = Conv2D(256, kernel_size=3, activation='relu', padding='same', name='conv4_2')(conv4_1)\n",
    "    conv4_2 = BatchNormalization()(conv4_2)\n",
    "    conv4_3 = Conv2D(256, kernel_size=3, activation='relu', padding='same', name='conv4_3')(conv4_2)\n",
    "    conv4_3 = BatchNormalization()(conv4_3)\n",
    "    conv4_4 = Conv2D(256, kernel_size=3, activation='relu', padding='same', name='conv4_4')(conv4_3)\n",
    "    conv4_4 = BatchNormalization()(conv4_4)\n",
    "    pool4_1 = MaxPooling2D(pool_size=(2, 2), name='pool4_1')(conv4_4)\n",
    "    drop4_1 = Dropout(0.3, name='drop4_1')(pool4_1)\n",
    "    \n",
    "    # The 5th block\n",
    "    conv5_1 = Conv2D(512, kernel_size=3, activation='relu', padding='same', name='conv5_1')(drop4_1)\n",
    "    conv5_1 = BatchNormalization()(conv5_1)\n",
    "    conv5_2 = Conv2D(512, kernel_size=3, activation='relu', padding='same', name='conv5_2')(conv5_1)\n",
    "    conv5_2 = BatchNormalization()(conv5_2)\n",
    "    conv5_3 = Conv2D(512, kernel_size=3, activation='relu', padding='same', name='conv5_3')(conv5_2)\n",
    "    conv5_3 = BatchNormalization()(conv5_3)\n",
    "    conv5_4 = Conv2D(512, kernel_size=3, activation='relu', padding='same', name='conv5_4')(conv5_3)\n",
    "    conv5_4 = BatchNormalization()(conv5_4)\n",
    "    pool5_1 = MaxPooling2D(pool_size=(2, 2), name='pool5_1')(conv5_4)\n",
    "    drop5_1 = Dropout(0.3, name='drop5_1')(pool5_1)\n",
    "\n",
    "    # Flatten and output\n",
    "    flatten = Flatten(name='flatten')(drop5_1)\n",
    "    output = Dense(num_classes, activation='softmax', name='output')(flatten)\n",
    "\n",
    "    # Create model\n",
    "    model = Model(inputs=visible, outputs=output)\n",
    "    # Summary layers\n",
    "    model.summary()\n",
    "\n",
    "    return model\n"
   ]
  },
  {
   "cell_type": "code",
   "execution_count": 27,
   "metadata": {
    "execution": {
     "iopub.execute_input": "2021-11-01T17:33:36.61628Z",
     "iopub.status.busy": "2021-11-01T17:33:36.613493Z",
     "iopub.status.idle": "2021-11-01T17:33:39.04201Z",
     "shell.execute_reply": "2021-11-01T17:33:39.041065Z",
     "shell.execute_reply.started": "2021-11-01T17:33:36.616235Z"
    }
   },
   "outputs": [
    {
     "name": "stdout",
     "output_type": "stream",
     "text": [
      "Model: \"model_1\"\n",
      "_________________________________________________________________\n",
      " Layer (type)                Output Shape              Param #   \n",
      "=================================================================\n",
      " input (InputLayer)          [(None, 48, 48, 1)]       0         \n",
      "                                                                 \n",
      " conv1_1 (Conv2D)            (None, 48, 48, 64)        640       \n",
      "                                                                 \n",
      " batch_normalization_17 (Ba  (None, 48, 48, 64)        256       \n",
      " tchNormalization)                                               \n",
      "                                                                 \n",
      " conv1_2 (Conv2D)            (None, 48, 48, 64)        36928     \n",
      "                                                                 \n",
      " batch_normalization_18 (Ba  (None, 48, 48, 64)        256       \n",
      " tchNormalization)                                               \n",
      "                                                                 \n",
      " pool1_1 (MaxPooling2D)      (None, 24, 24, 64)        0         \n",
      "                                                                 \n",
      " drop1_1 (Dropout)           (None, 24, 24, 64)        0         \n",
      "                                                                 \n",
      " conv2_1 (Conv2D)            (None, 24, 24, 128)       73856     \n",
      "                                                                 \n",
      " batch_normalization_19 (Ba  (None, 24, 24, 128)       512       \n",
      " tchNormalization)                                               \n",
      "                                                                 \n",
      " conv2_2 (Conv2D)            (None, 24, 24, 128)       147584    \n",
      "                                                                 \n",
      " batch_normalization_20 (Ba  (None, 24, 24, 128)       512       \n",
      " tchNormalization)                                               \n",
      "                                                                 \n",
      " conv2_3 (Conv2D)            (None, 24, 24, 128)       147584    \n",
      "                                                                 \n",
      " batch_normalization_21 (Ba  (None, 24, 24, 128)       512       \n",
      " tchNormalization)                                               \n",
      "                                                                 \n",
      " pool2_1 (MaxPooling2D)      (None, 12, 12, 128)       0         \n",
      "                                                                 \n",
      " drop2_1 (Dropout)           (None, 12, 12, 128)       0         \n",
      "                                                                 \n",
      " conv3_1 (Conv2D)            (None, 12, 12, 256)       295168    \n",
      "                                                                 \n",
      " batch_normalization_22 (Ba  (None, 12, 12, 256)       1024      \n",
      " tchNormalization)                                               \n",
      "                                                                 \n",
      " conv3_2 (Conv2D)            (None, 12, 12, 256)       590080    \n",
      "                                                                 \n",
      " batch_normalization_23 (Ba  (None, 12, 12, 256)       1024      \n",
      " tchNormalization)                                               \n",
      "                                                                 \n",
      " conv3_3 (Conv2D)            (None, 12, 12, 256)       590080    \n",
      "                                                                 \n",
      " batch_normalization_24 (Ba  (None, 12, 12, 256)       1024      \n",
      " tchNormalization)                                               \n",
      "                                                                 \n",
      " conv3_4 (Conv2D)            (None, 12, 12, 256)       590080    \n",
      "                                                                 \n",
      " batch_normalization_25 (Ba  (None, 12, 12, 256)       1024      \n",
      " tchNormalization)                                               \n",
      "                                                                 \n",
      " pool3_1 (MaxPooling2D)      (None, 6, 6, 256)         0         \n",
      "                                                                 \n",
      " drop3_1 (Dropout)           (None, 6, 6, 256)         0         \n",
      "                                                                 \n",
      " conv4_1 (Conv2D)            (None, 6, 6, 256)         590080    \n",
      "                                                                 \n",
      " batch_normalization_26 (Ba  (None, 6, 6, 256)         1024      \n",
      " tchNormalization)                                               \n",
      "                                                                 \n",
      " conv4_2 (Conv2D)            (None, 6, 6, 256)         590080    \n",
      "                                                                 \n",
      " batch_normalization_27 (Ba  (None, 6, 6, 256)         1024      \n",
      " tchNormalization)                                               \n",
      "                                                                 \n",
      " conv4_3 (Conv2D)            (None, 6, 6, 256)         590080    \n",
      "                                                                 \n",
      " batch_normalization_28 (Ba  (None, 6, 6, 256)         1024      \n",
      " tchNormalization)                                               \n",
      "                                                                 \n",
      " conv4_4 (Conv2D)            (None, 6, 6, 256)         590080    \n",
      "                                                                 \n",
      " batch_normalization_29 (Ba  (None, 6, 6, 256)         1024      \n",
      " tchNormalization)                                               \n",
      "                                                                 \n",
      " pool4_1 (MaxPooling2D)      (None, 3, 3, 256)         0         \n",
      "                                                                 \n",
      " drop4_1 (Dropout)           (None, 3, 3, 256)         0         \n",
      "                                                                 \n",
      " conv5_1 (Conv2D)            (None, 3, 3, 512)         1180160   \n",
      "                                                                 \n",
      " batch_normalization_30 (Ba  (None, 3, 3, 512)         2048      \n",
      " tchNormalization)                                               \n",
      "                                                                 \n",
      " conv5_2 (Conv2D)            (None, 3, 3, 512)         2359808   \n",
      "                                                                 \n",
      " batch_normalization_31 (Ba  (None, 3, 3, 512)         2048      \n",
      " tchNormalization)                                               \n",
      "                                                                 \n",
      " conv5_3 (Conv2D)            (None, 3, 3, 512)         2359808   \n",
      "                                                                 \n",
      " batch_normalization_32 (Ba  (None, 3, 3, 512)         2048      \n",
      " tchNormalization)                                               \n",
      "                                                                 \n",
      " conv5_4 (Conv2D)            (None, 3, 3, 512)         2359808   \n",
      "                                                                 \n",
      " batch_normalization_33 (Ba  (None, 3, 3, 512)         2048      \n",
      " tchNormalization)                                               \n",
      "                                                                 \n",
      " pool5_1 (MaxPooling2D)      (None, 1, 1, 512)         0         \n",
      "                                                                 \n",
      " drop5_1 (Dropout)           (None, 1, 1, 512)         0         \n",
      "                                                                 \n",
      " flatten (Flatten)           (None, 512)               0         \n",
      "                                                                 \n",
      " output (Dense)              (None, 7)                 3591      \n",
      "                                                                 \n",
      "=================================================================\n",
      "Total params: 13113927 (50.03 MB)\n",
      "Trainable params: 13104711 (49.99 MB)\n",
      "Non-trainable params: 9216 (36.00 KB)\n",
      "_________________________________________________________________\n"
     ]
    },
    {
     "name": "stderr",
     "output_type": "stream",
     "text": [
      "WARNING:absl:`lr` is deprecated in Keras optimizer, please use `learning_rate` or use the legacy optimizer, e.g.,tf.keras.optimizers.legacy.Adam.\n"
     ]
    },
    {
     "ename": "ValueError",
     "evalue": "decay is deprecated in the new Keras optimizer, please check the docstring for valid arguments, or use the legacy optimizer, e.g., tf.keras.optimizers.legacy.Adam.",
     "output_type": "error",
     "traceback": [
      "\u001b[1;31m---------------------------------------------------------------------------\u001b[0m",
      "\u001b[1;31mValueError\u001b[0m                                Traceback (most recent call last)",
      "Cell \u001b[1;32mIn[27], line 2\u001b[0m\n\u001b[0;32m      1\u001b[0m model \u001b[38;5;241m=\u001b[39m FER_Model()\n\u001b[1;32m----> 2\u001b[0m opt \u001b[38;5;241m=\u001b[39m Adam(lr\u001b[38;5;241m=\u001b[39m\u001b[38;5;241m0.0001\u001b[39m, decay\u001b[38;5;241m=\u001b[39m\u001b[38;5;241m1e-6\u001b[39m)\n\u001b[0;32m      3\u001b[0m model\u001b[38;5;241m.\u001b[39mcompile(loss\u001b[38;5;241m=\u001b[39m\u001b[38;5;124m'\u001b[39m\u001b[38;5;124mcategorical_crossentropy\u001b[39m\u001b[38;5;124m'\u001b[39m, optimizer\u001b[38;5;241m=\u001b[39mopt, metrics\u001b[38;5;241m=\u001b[39m[\u001b[38;5;124m'\u001b[39m\u001b[38;5;124maccuracy\u001b[39m\u001b[38;5;124m'\u001b[39m])\n",
      "File \u001b[1;32m~\\anaconda3\\Lib\\site-packages\\keras\\src\\optimizers\\adam.py:110\u001b[0m, in \u001b[0;36mAdam.__init__\u001b[1;34m(self, learning_rate, beta_1, beta_2, epsilon, amsgrad, weight_decay, clipnorm, clipvalue, global_clipnorm, use_ema, ema_momentum, ema_overwrite_frequency, jit_compile, name, **kwargs)\u001b[0m\n\u001b[0;32m     92\u001b[0m \u001b[38;5;28;01mdef\u001b[39;00m \u001b[38;5;21m__init__\u001b[39m(\n\u001b[0;32m     93\u001b[0m     \u001b[38;5;28mself\u001b[39m,\n\u001b[0;32m     94\u001b[0m     learning_rate\u001b[38;5;241m=\u001b[39m\u001b[38;5;241m0.001\u001b[39m,\n\u001b[1;32m   (...)\u001b[0m\n\u001b[0;32m    108\u001b[0m     \u001b[38;5;241m*\u001b[39m\u001b[38;5;241m*\u001b[39mkwargs\n\u001b[0;32m    109\u001b[0m ):\n\u001b[1;32m--> 110\u001b[0m     \u001b[38;5;28msuper\u001b[39m()\u001b[38;5;241m.\u001b[39m\u001b[38;5;21m__init__\u001b[39m(\n\u001b[0;32m    111\u001b[0m         name\u001b[38;5;241m=\u001b[39mname,\n\u001b[0;32m    112\u001b[0m         weight_decay\u001b[38;5;241m=\u001b[39mweight_decay,\n\u001b[0;32m    113\u001b[0m         clipnorm\u001b[38;5;241m=\u001b[39mclipnorm,\n\u001b[0;32m    114\u001b[0m         clipvalue\u001b[38;5;241m=\u001b[39mclipvalue,\n\u001b[0;32m    115\u001b[0m         global_clipnorm\u001b[38;5;241m=\u001b[39mglobal_clipnorm,\n\u001b[0;32m    116\u001b[0m         use_ema\u001b[38;5;241m=\u001b[39muse_ema,\n\u001b[0;32m    117\u001b[0m         ema_momentum\u001b[38;5;241m=\u001b[39mema_momentum,\n\u001b[0;32m    118\u001b[0m         ema_overwrite_frequency\u001b[38;5;241m=\u001b[39mema_overwrite_frequency,\n\u001b[0;32m    119\u001b[0m         jit_compile\u001b[38;5;241m=\u001b[39mjit_compile,\n\u001b[0;32m    120\u001b[0m         \u001b[38;5;241m*\u001b[39m\u001b[38;5;241m*\u001b[39mkwargs\n\u001b[0;32m    121\u001b[0m     )\n\u001b[0;32m    122\u001b[0m     \u001b[38;5;28mself\u001b[39m\u001b[38;5;241m.\u001b[39m_learning_rate \u001b[38;5;241m=\u001b[39m \u001b[38;5;28mself\u001b[39m\u001b[38;5;241m.\u001b[39m_build_learning_rate(learning_rate)\n\u001b[0;32m    123\u001b[0m     \u001b[38;5;28mself\u001b[39m\u001b[38;5;241m.\u001b[39mbeta_1 \u001b[38;5;241m=\u001b[39m beta_1\n",
      "File \u001b[1;32m~\\anaconda3\\Lib\\site-packages\\keras\\src\\optimizers\\optimizer.py:1084\u001b[0m, in \u001b[0;36mOptimizer.__init__\u001b[1;34m(self, name, weight_decay, clipnorm, clipvalue, global_clipnorm, use_ema, ema_momentum, ema_overwrite_frequency, jit_compile, **kwargs)\u001b[0m\n\u001b[0;32m   1082\u001b[0m mesh \u001b[38;5;241m=\u001b[39m kwargs\u001b[38;5;241m.\u001b[39mpop(\u001b[38;5;124m\"\u001b[39m\u001b[38;5;124mmesh\u001b[39m\u001b[38;5;124m\"\u001b[39m, \u001b[38;5;28;01mNone\u001b[39;00m)\n\u001b[0;32m   1083\u001b[0m \u001b[38;5;28mself\u001b[39m\u001b[38;5;241m.\u001b[39m_mesh \u001b[38;5;241m=\u001b[39m mesh\n\u001b[1;32m-> 1084\u001b[0m \u001b[38;5;28msuper\u001b[39m()\u001b[38;5;241m.\u001b[39m\u001b[38;5;21m__init__\u001b[39m(\n\u001b[0;32m   1085\u001b[0m     name,\n\u001b[0;32m   1086\u001b[0m     weight_decay,\n\u001b[0;32m   1087\u001b[0m     clipnorm,\n\u001b[0;32m   1088\u001b[0m     clipvalue,\n\u001b[0;32m   1089\u001b[0m     global_clipnorm,\n\u001b[0;32m   1090\u001b[0m     use_ema,\n\u001b[0;32m   1091\u001b[0m     ema_momentum,\n\u001b[0;32m   1092\u001b[0m     ema_overwrite_frequency,\n\u001b[0;32m   1093\u001b[0m     jit_compile,\n\u001b[0;32m   1094\u001b[0m     \u001b[38;5;241m*\u001b[39m\u001b[38;5;241m*\u001b[39mkwargs,\n\u001b[0;32m   1095\u001b[0m )\n\u001b[0;32m   1096\u001b[0m \u001b[38;5;28mself\u001b[39m\u001b[38;5;241m.\u001b[39m_distribution_strategy \u001b[38;5;241m=\u001b[39m tf\u001b[38;5;241m.\u001b[39mdistribute\u001b[38;5;241m.\u001b[39mget_strategy()\n\u001b[0;32m   1097\u001b[0m \u001b[38;5;28mself\u001b[39m\u001b[38;5;241m.\u001b[39m_run_with_dtensor \u001b[38;5;241m=\u001b[39m dtensor_utils\u001b[38;5;241m.\u001b[39mrunning_with_dtensor_strategy()\n",
      "File \u001b[1;32m~\\anaconda3\\Lib\\site-packages\\keras\\src\\optimizers\\optimizer.py:106\u001b[0m, in \u001b[0;36m_BaseOptimizer.__init__\u001b[1;34m(self, name, weight_decay, clipnorm, clipvalue, global_clipnorm, use_ema, ema_momentum, ema_overwrite_frequency, jit_compile, **kwargs)\u001b[0m\n\u001b[0;32m    104\u001b[0m \u001b[38;5;28mself\u001b[39m\u001b[38;5;241m.\u001b[39m_variables \u001b[38;5;241m=\u001b[39m []\n\u001b[0;32m    105\u001b[0m \u001b[38;5;28mself\u001b[39m\u001b[38;5;241m.\u001b[39m_create_iteration_variable()\n\u001b[1;32m--> 106\u001b[0m \u001b[38;5;28mself\u001b[39m\u001b[38;5;241m.\u001b[39m_process_kwargs(kwargs)\n",
      "File \u001b[1;32m~\\anaconda3\\Lib\\site-packages\\keras\\src\\optimizers\\optimizer.py:135\u001b[0m, in \u001b[0;36m_BaseOptimizer._process_kwargs\u001b[1;34m(self, kwargs)\u001b[0m\n\u001b[0;32m    133\u001b[0m \u001b[38;5;28;01mfor\u001b[39;00m k \u001b[38;5;129;01min\u001b[39;00m kwargs:\n\u001b[0;32m    134\u001b[0m     \u001b[38;5;28;01mif\u001b[39;00m k \u001b[38;5;129;01min\u001b[39;00m legacy_kwargs:\n\u001b[1;32m--> 135\u001b[0m         \u001b[38;5;28;01mraise\u001b[39;00m \u001b[38;5;167;01mValueError\u001b[39;00m(\n\u001b[0;32m    136\u001b[0m             \u001b[38;5;124mf\u001b[39m\u001b[38;5;124m\"\u001b[39m\u001b[38;5;132;01m{\u001b[39;00mk\u001b[38;5;132;01m}\u001b[39;00m\u001b[38;5;124m is deprecated in the new Keras optimizer, please \u001b[39m\u001b[38;5;124m\"\u001b[39m\n\u001b[0;32m    137\u001b[0m             \u001b[38;5;124m\"\u001b[39m\u001b[38;5;124mcheck the docstring for valid arguments, or use the \u001b[39m\u001b[38;5;124m\"\u001b[39m\n\u001b[0;32m    138\u001b[0m             \u001b[38;5;124m\"\u001b[39m\u001b[38;5;124mlegacy optimizer, e.g., \u001b[39m\u001b[38;5;124m\"\u001b[39m\n\u001b[0;32m    139\u001b[0m             \u001b[38;5;124mf\u001b[39m\u001b[38;5;124m\"\u001b[39m\u001b[38;5;124mtf.keras.optimizers.legacy.\u001b[39m\u001b[38;5;132;01m{\u001b[39;00m\u001b[38;5;28mself\u001b[39m\u001b[38;5;241m.\u001b[39m\u001b[38;5;18m__class__\u001b[39m\u001b[38;5;241m.\u001b[39m\u001b[38;5;18m__name__\u001b[39m\u001b[38;5;132;01m}\u001b[39;00m\u001b[38;5;124m.\u001b[39m\u001b[38;5;124m\"\u001b[39m\n\u001b[0;32m    140\u001b[0m         )\n\u001b[0;32m    141\u001b[0m     \u001b[38;5;28;01melse\u001b[39;00m:\n\u001b[0;32m    142\u001b[0m         \u001b[38;5;28;01mraise\u001b[39;00m \u001b[38;5;167;01mTypeError\u001b[39;00m(\n\u001b[0;32m    143\u001b[0m             \u001b[38;5;124mf\u001b[39m\u001b[38;5;124m\"\u001b[39m\u001b[38;5;132;01m{\u001b[39;00mk\u001b[38;5;132;01m}\u001b[39;00m\u001b[38;5;124m is not a valid argument, kwargs should be empty \u001b[39m\u001b[38;5;124m\"\u001b[39m\n\u001b[0;32m    144\u001b[0m             \u001b[38;5;124m\"\u001b[39m\u001b[38;5;124m for `optimizer_experimental.Optimizer`.\u001b[39m\u001b[38;5;124m\"\u001b[39m\n\u001b[0;32m    145\u001b[0m         )\n",
      "\u001b[1;31mValueError\u001b[0m: decay is deprecated in the new Keras optimizer, please check the docstring for valid arguments, or use the legacy optimizer, e.g., tf.keras.optimizers.legacy.Adam."
     ]
    }
   ],
   "source": [
    "model = FER_Model()\n",
    "opt = Adam(lr=0.0001, decay=1e-6)\n",
    "model.compile(loss='categorical_crossentropy', optimizer=opt, metrics=['accuracy'])"
   ]
  },
  {
   "cell_type": "code",
   "execution_count": 28,
   "metadata": {
    "execution": {
     "iopub.execute_input": "2021-11-01T17:33:39.04469Z",
     "iopub.status.busy": "2021-11-01T17:33:39.044254Z",
     "iopub.status.idle": "2021-11-01T17:33:39.050518Z",
     "shell.execute_reply": "2021-11-01T17:33:39.04942Z",
     "shell.execute_reply.started": "2021-11-01T17:33:39.044648Z"
    }
   },
   "outputs": [],
   "source": [
    "from keras.callbacks import ModelCheckpoint\n",
    "filepath=\"weights_min_loss.hdf5\"\n",
    "checkpoint = ModelCheckpoint(filepath, monitor='val_loss', verbose=1, save_best_only=True, mode='min')\n",
    "callbacks_list = [checkpoint]"
   ]
  },
  {
   "cell_type": "code",
   "execution_count": 30,
   "metadata": {
    "execution": {
     "iopub.execute_input": "2021-11-01T17:33:39.052736Z",
     "iopub.status.busy": "2021-11-01T17:33:39.052225Z",
     "iopub.status.idle": "2021-11-01T18:03:44.376136Z",
     "shell.execute_reply": "2021-11-01T18:03:44.375198Z",
     "shell.execute_reply.started": "2021-11-01T17:33:39.05265Z"
    },
    "scrolled": true
   },
   "outputs": [
    {
     "name": "stdout",
     "output_type": "stream",
     "text": [
      "Model: \"model_2\"\n",
      "_________________________________________________________________\n",
      " Layer (type)                Output Shape              Param #   \n",
      "=================================================================\n",
      " input (InputLayer)          [(None, 48, 48, 1)]       0         \n",
      "                                                                 \n",
      " conv1_1 (Conv2D)            (None, 48, 48, 64)        640       \n",
      "                                                                 \n",
      " batch_normalization_34 (Ba  (None, 48, 48, 64)        256       \n",
      " tchNormalization)                                               \n",
      "                                                                 \n",
      " conv1_2 (Conv2D)            (None, 48, 48, 64)        36928     \n",
      "                                                                 \n",
      " batch_normalization_35 (Ba  (None, 48, 48, 64)        256       \n",
      " tchNormalization)                                               \n",
      "                                                                 \n",
      " pool1_1 (MaxPooling2D)      (None, 24, 24, 64)        0         \n",
      "                                                                 \n",
      " drop1_1 (Dropout)           (None, 24, 24, 64)        0         \n",
      "                                                                 \n",
      " conv2_1 (Conv2D)            (None, 24, 24, 128)       73856     \n",
      "                                                                 \n",
      " batch_normalization_36 (Ba  (None, 24, 24, 128)       512       \n",
      " tchNormalization)                                               \n",
      "                                                                 \n",
      " conv2_2 (Conv2D)            (None, 24, 24, 128)       147584    \n",
      "                                                                 \n",
      " batch_normalization_37 (Ba  (None, 24, 24, 128)       512       \n",
      " tchNormalization)                                               \n",
      "                                                                 \n",
      " conv2_3 (Conv2D)            (None, 24, 24, 128)       147584    \n",
      "                                                                 \n",
      " batch_normalization_38 (Ba  (None, 24, 24, 128)       512       \n",
      " tchNormalization)                                               \n",
      "                                                                 \n",
      " pool2_1 (MaxPooling2D)      (None, 12, 12, 128)       0         \n",
      "                                                                 \n",
      " drop2_1 (Dropout)           (None, 12, 12, 128)       0         \n",
      "                                                                 \n",
      " conv3_1 (Conv2D)            (None, 12, 12, 256)       295168    \n",
      "                                                                 \n",
      " batch_normalization_39 (Ba  (None, 12, 12, 256)       1024      \n",
      " tchNormalization)                                               \n",
      "                                                                 \n",
      " conv3_2 (Conv2D)            (None, 12, 12, 256)       590080    \n",
      "                                                                 \n",
      " batch_normalization_40 (Ba  (None, 12, 12, 256)       1024      \n",
      " tchNormalization)                                               \n",
      "                                                                 \n",
      " conv3_3 (Conv2D)            (None, 12, 12, 256)       590080    \n",
      "                                                                 \n",
      " batch_normalization_41 (Ba  (None, 12, 12, 256)       1024      \n",
      " tchNormalization)                                               \n",
      "                                                                 \n",
      " conv3_4 (Conv2D)            (None, 12, 12, 256)       590080    \n",
      "                                                                 \n",
      " batch_normalization_42 (Ba  (None, 12, 12, 256)       1024      \n",
      " tchNormalization)                                               \n",
      "                                                                 \n",
      " pool3_1 (MaxPooling2D)      (None, 6, 6, 256)         0         \n",
      "                                                                 \n",
      " drop3_1 (Dropout)           (None, 6, 6, 256)         0         \n",
      "                                                                 \n",
      " conv4_1 (Conv2D)            (None, 6, 6, 256)         590080    \n",
      "                                                                 \n",
      " batch_normalization_43 (Ba  (None, 6, 6, 256)         1024      \n",
      " tchNormalization)                                               \n",
      "                                                                 \n",
      " conv4_2 (Conv2D)            (None, 6, 6, 256)         590080    \n",
      "                                                                 \n",
      " batch_normalization_44 (Ba  (None, 6, 6, 256)         1024      \n",
      " tchNormalization)                                               \n",
      "                                                                 \n",
      " conv4_3 (Conv2D)            (None, 6, 6, 256)         590080    \n",
      "                                                                 \n",
      " batch_normalization_45 (Ba  (None, 6, 6, 256)         1024      \n",
      " tchNormalization)                                               \n",
      "                                                                 \n",
      " conv4_4 (Conv2D)            (None, 6, 6, 256)         590080    \n",
      "                                                                 \n",
      " batch_normalization_46 (Ba  (None, 6, 6, 256)         1024      \n",
      " tchNormalization)                                               \n",
      "                                                                 \n",
      " pool4_1 (MaxPooling2D)      (None, 3, 3, 256)         0         \n",
      "                                                                 \n",
      " drop4_1 (Dropout)           (None, 3, 3, 256)         0         \n",
      "                                                                 \n",
      " conv5_1 (Conv2D)            (None, 3, 3, 512)         1180160   \n",
      "                                                                 \n",
      " batch_normalization_47 (Ba  (None, 3, 3, 512)         2048      \n",
      " tchNormalization)                                               \n",
      "                                                                 \n",
      " conv5_2 (Conv2D)            (None, 3, 3, 512)         2359808   \n",
      "                                                                 \n",
      " batch_normalization_48 (Ba  (None, 3, 3, 512)         2048      \n",
      " tchNormalization)                                               \n",
      "                                                                 \n",
      " conv5_3 (Conv2D)            (None, 3, 3, 512)         2359808   \n",
      "                                                                 \n",
      " batch_normalization_49 (Ba  (None, 3, 3, 512)         2048      \n",
      " tchNormalization)                                               \n",
      "                                                                 \n",
      " conv5_4 (Conv2D)            (None, 3, 3, 512)         2359808   \n",
      "                                                                 \n",
      " batch_normalization_50 (Ba  (None, 3, 3, 512)         2048      \n",
      " tchNormalization)                                               \n",
      "                                                                 \n",
      " pool5_1 (MaxPooling2D)      (None, 1, 1, 512)         0         \n",
      "                                                                 \n",
      " drop5_1 (Dropout)           (None, 1, 1, 512)         0         \n",
      "                                                                 \n",
      " flatten (Flatten)           (None, 512)               0         \n",
      "                                                                 \n",
      " output (Dense)              (None, 7)                 3591      \n",
      "                                                                 \n",
      "=================================================================\n",
      "Total params: 13113927 (50.03 MB)\n",
      "Trainable params: 13104711 (49.99 MB)\n",
      "Non-trainable params: 9216 (36.00 KB)\n",
      "_________________________________________________________________\n",
      "Epoch 1/100\n",
      "WARNING:tensorflow:From C:\\Users\\Maverick\\anaconda3\\Lib\\site-packages\\keras\\src\\utils\\tf_utils.py:492: The name tf.ragged.RaggedTensorValue is deprecated. Please use tf.compat.v1.ragged.RaggedTensorValue instead.\n",
      "\n"
     ]
    },
    {
     "name": "stderr",
     "output_type": "stream",
     "text": [
      "WARNING:tensorflow:From C:\\Users\\Maverick\\anaconda3\\Lib\\site-packages\\keras\\src\\utils\\tf_utils.py:492: The name tf.ragged.RaggedTensorValue is deprecated. Please use tf.compat.v1.ragged.RaggedTensorValue instead.\n",
      "\n"
     ]
    },
    {
     "name": "stdout",
     "output_type": "stream",
     "text": [
      "WARNING:tensorflow:From C:\\Users\\Maverick\\anaconda3\\Lib\\site-packages\\keras\\src\\engine\\base_layer_utils.py:384: The name tf.executing_eagerly_outside_functions is deprecated. Please use tf.compat.v1.executing_eagerly_outside_functions instead.\n",
      "\n"
     ]
    },
    {
     "name": "stderr",
     "output_type": "stream",
     "text": [
      "WARNING:tensorflow:From C:\\Users\\Maverick\\anaconda3\\Lib\\site-packages\\keras\\src\\engine\\base_layer_utils.py:384: The name tf.executing_eagerly_outside_functions is deprecated. Please use tf.compat.v1.executing_eagerly_outside_functions instead.\n",
      "\n"
     ]
    },
    {
     "name": "stdout",
     "output_type": "stream",
     "text": [
      "\n",
      "Epoch 1: val_loss improved from inf to 1.96177, saving model to weights_min_loss.hdf5\n"
     ]
    },
    {
     "name": "stderr",
     "output_type": "stream",
     "text": [
      "C:\\Users\\Maverick\\anaconda3\\Lib\\site-packages\\keras\\src\\engine\\training.py:3103: UserWarning: You are saving your model as an HDF5 file via `model.save()`. This file format is considered legacy. We recommend using instead the native Keras format, e.g. `model.save('my_model.keras')`.\n",
      "  saving_api.save_model(\n"
     ]
    },
    {
     "name": "stdout",
     "output_type": "stream",
     "text": [
      "14/14 - 13s - loss: 5.3558 - accuracy: 0.1730 - val_loss: 1.9618 - val_accuracy: 0.1562 - 13s/epoch - 911ms/step\n",
      "Epoch 2/100\n",
      "\n",
      "Epoch 2: val_loss improved from 1.96177 to 1.94940, saving model to weights_min_loss.hdf5\n",
      "14/14 - 8s - loss: 3.4394 - accuracy: 0.1842 - val_loss: 1.9494 - val_accuracy: 0.2031 - 8s/epoch - 552ms/step\n",
      "Epoch 3/100\n",
      "\n",
      "Epoch 3: val_loss did not improve from 1.94940\n",
      "14/14 - 7s - loss: 3.0683 - accuracy: 0.1830 - val_loss: 2.1065 - val_accuracy: 0.1250 - 7s/epoch - 525ms/step\n",
      "Epoch 4/100\n",
      "\n",
      "Epoch 4: val_loss improved from 1.94940 to 1.83118, saving model to weights_min_loss.hdf5\n",
      "14/14 - 8s - loss: 2.7432 - accuracy: 0.2199 - val_loss: 1.8312 - val_accuracy: 0.2500 - 8s/epoch - 591ms/step\n",
      "Epoch 5/100\n",
      "\n",
      "Epoch 5: val_loss did not improve from 1.83118\n",
      "14/14 - 8s - loss: 2.4457 - accuracy: 0.2455 - val_loss: 2.6234 - val_accuracy: 0.1875 - 8s/epoch - 554ms/step\n",
      "Epoch 6/100\n",
      "\n",
      "Epoch 6: val_loss did not improve from 1.83118\n",
      "14/14 - 8s - loss: 2.5225 - accuracy: 0.2188 - val_loss: 1.8330 - val_accuracy: 0.2344 - 8s/epoch - 585ms/step\n",
      "Epoch 7/100\n",
      "\n",
      "Epoch 7: val_loss did not improve from 1.83118\n",
      "14/14 - 8s - loss: 2.2023 - accuracy: 0.1953 - val_loss: 1.8433 - val_accuracy: 0.2500 - 8s/epoch - 576ms/step\n",
      "Epoch 8/100\n",
      "\n",
      "Epoch 8: val_loss did not improve from 1.83118\n",
      "14/14 - 8s - loss: 2.3407 - accuracy: 0.2254 - val_loss: 1.8397 - val_accuracy: 0.1719 - 8s/epoch - 570ms/step\n",
      "Epoch 9/100\n",
      "\n",
      "Epoch 9: val_loss improved from 1.83118 to 1.79378, saving model to weights_min_loss.hdf5\n",
      "14/14 - 8s - loss: 2.3235 - accuracy: 0.2143 - val_loss: 1.7938 - val_accuracy: 0.2656 - 8s/epoch - 585ms/step\n",
      "Epoch 10/100\n",
      "\n",
      "Epoch 10: val_loss did not improve from 1.79378\n",
      "14/14 - 8s - loss: 2.2526 - accuracy: 0.2422 - val_loss: 1.8187 - val_accuracy: 0.2344 - 8s/epoch - 572ms/step\n",
      "Epoch 11/100\n",
      "\n",
      "Epoch 11: val_loss improved from 1.79378 to 1.74108, saving model to weights_min_loss.hdf5\n",
      "14/14 - 9s - loss: 2.2024 - accuracy: 0.2645 - val_loss: 1.7411 - val_accuracy: 0.2188 - 9s/epoch - 632ms/step\n",
      "Epoch 12/100\n",
      "\n",
      "Epoch 12: val_loss did not improve from 1.74108\n",
      "14/14 - 8s - loss: 2.3334 - accuracy: 0.2467 - val_loss: 1.8721 - val_accuracy: 0.2188 - 8s/epoch - 556ms/step\n",
      "Epoch 13/100\n",
      "\n",
      "Epoch 13: val_loss did not improve from 1.74108\n",
      "14/14 - 8s - loss: 2.1036 - accuracy: 0.2556 - val_loss: 1.8245 - val_accuracy: 0.2188 - 8s/epoch - 556ms/step\n",
      "Epoch 14/100\n",
      "\n",
      "Epoch 14: val_loss did not improve from 1.74108\n",
      "14/14 - 8s - loss: 2.0993 - accuracy: 0.2288 - val_loss: 1.7596 - val_accuracy: 0.3750 - 8s/epoch - 561ms/step\n",
      "Epoch 15/100\n",
      "\n",
      "Epoch 15: val_loss did not improve from 1.74108\n",
      "14/14 - 8s - loss: 2.2103 - accuracy: 0.2734 - val_loss: 2.7869 - val_accuracy: 0.2812 - 8s/epoch - 553ms/step\n",
      "Epoch 16/100\n",
      "\n",
      "Epoch 16: val_loss did not improve from 1.74108\n",
      "14/14 - 8s - loss: 2.2203 - accuracy: 0.2243 - val_loss: 3.4246 - val_accuracy: 0.1250 - 8s/epoch - 585ms/step\n",
      "Epoch 17/100\n",
      "\n",
      "Epoch 17: val_loss did not improve from 1.74108\n",
      "14/14 - 9s - loss: 2.3427 - accuracy: 0.2478 - val_loss: 2.6769 - val_accuracy: 0.2812 - 9s/epoch - 617ms/step\n",
      "Epoch 18/100\n",
      "\n",
      "Epoch 18: val_loss did not improve from 1.74108\n",
      "14/14 - 9s - loss: 2.1211 - accuracy: 0.2344 - val_loss: 1.9414 - val_accuracy: 0.0938 - 9s/epoch - 621ms/step\n",
      "Epoch 19/100\n",
      "\n",
      "Epoch 19: val_loss improved from 1.74108 to 1.70951, saving model to weights_min_loss.hdf5\n",
      "14/14 - 9s - loss: 2.1507 - accuracy: 0.2634 - val_loss: 1.7095 - val_accuracy: 0.3750 - 9s/epoch - 611ms/step\n",
      "Epoch 20/100\n",
      "\n",
      "Epoch 20: val_loss did not improve from 1.70951\n",
      "14/14 - 8s - loss: 2.0998 - accuracy: 0.2344 - val_loss: 1.8849 - val_accuracy: 0.3125 - 8s/epoch - 569ms/step\n",
      "Epoch 21/100\n",
      "\n",
      "Epoch 21: val_loss did not improve from 1.70951\n",
      "14/14 - 8s - loss: 2.0487 - accuracy: 0.2478 - val_loss: 1.9246 - val_accuracy: 0.1562 - 8s/epoch - 560ms/step\n",
      "Epoch 22/100\n",
      "\n",
      "Epoch 22: val_loss did not improve from 1.70951\n",
      "14/14 - 8s - loss: 2.1929 - accuracy: 0.2667 - val_loss: 2.7546 - val_accuracy: 0.1406 - 8s/epoch - 551ms/step\n",
      "Epoch 23/100\n",
      "\n",
      "Epoch 23: val_loss did not improve from 1.70951\n",
      "14/14 - 8s - loss: 2.1370 - accuracy: 0.2567 - val_loss: 2.5204 - val_accuracy: 0.2500 - 8s/epoch - 551ms/step\n",
      "Epoch 24/100\n",
      "\n",
      "Epoch 24: val_loss did not improve from 1.70951\n",
      "14/14 - 8s - loss: 2.1829 - accuracy: 0.2377 - val_loss: 1.9903 - val_accuracy: 0.2500 - 8s/epoch - 554ms/step\n",
      "Epoch 25/100\n",
      "\n",
      "Epoch 25: val_loss did not improve from 1.70951\n",
      "14/14 - 8s - loss: 2.0883 - accuracy: 0.2433 - val_loss: 1.7652 - val_accuracy: 0.2188 - 8s/epoch - 568ms/step\n",
      "Epoch 26/100\n",
      "\n",
      "Epoch 26: val_loss did not improve from 1.70951\n",
      "14/14 - 8s - loss: 2.1268 - accuracy: 0.2478 - val_loss: 1.9629 - val_accuracy: 0.2031 - 8s/epoch - 554ms/step\n",
      "Epoch 27/100\n",
      "\n",
      "Epoch 27: val_loss did not improve from 1.70951\n",
      "14/14 - 8s - loss: 2.1179 - accuracy: 0.2467 - val_loss: 1.8090 - val_accuracy: 0.2656 - 8s/epoch - 556ms/step\n",
      "Epoch 28/100\n",
      "\n",
      "Epoch 28: val_loss did not improve from 1.70951\n",
      "14/14 - 8s - loss: 1.9505 - accuracy: 0.2679 - val_loss: 1.8396 - val_accuracy: 0.2031 - 8s/epoch - 563ms/step\n",
      "Epoch 29/100\n",
      "\n",
      "Epoch 29: val_loss did not improve from 1.70951\n",
      "14/14 - 8s - loss: 2.0332 - accuracy: 0.2433 - val_loss: 1.7891 - val_accuracy: 0.2969 - 8s/epoch - 558ms/step\n",
      "Epoch 30/100\n",
      "\n",
      "Epoch 30: val_loss did not improve from 1.70951\n",
      "14/14 - 8s - loss: 1.8881 - accuracy: 0.2757 - val_loss: 2.0719 - val_accuracy: 0.2031 - 8s/epoch - 551ms/step\n",
      "Epoch 31/100\n",
      "\n",
      "Epoch 31: val_loss did not improve from 1.70951\n",
      "14/14 - 8s - loss: 2.0379 - accuracy: 0.2712 - val_loss: 1.8379 - val_accuracy: 0.2969 - 8s/epoch - 558ms/step\n",
      "Epoch 32/100\n",
      "\n",
      "Epoch 32: val_loss did not improve from 1.70951\n",
      "14/14 - 8s - loss: 2.0571 - accuracy: 0.2701 - val_loss: 1.7612 - val_accuracy: 0.2812 - 8s/epoch - 563ms/step\n",
      "Epoch 33/100\n",
      "\n",
      "Epoch 33: val_loss improved from 1.70951 to 1.65031, saving model to weights_min_loss.hdf5\n",
      "14/14 - 9s - loss: 2.0632 - accuracy: 0.2757 - val_loss: 1.6503 - val_accuracy: 0.3281 - 9s/epoch - 638ms/step\n",
      "Epoch 34/100\n",
      "\n",
      "Epoch 34: val_loss did not improve from 1.65031\n",
      "14/14 - 8s - loss: 2.0585 - accuracy: 0.2545 - val_loss: 1.6800 - val_accuracy: 0.3281 - 8s/epoch - 552ms/step\n",
      "Epoch 35/100\n",
      "\n",
      "Epoch 35: val_loss did not improve from 1.65031\n",
      "14/14 - 8s - loss: 2.0002 - accuracy: 0.2656 - val_loss: 1.7419 - val_accuracy: 0.2812 - 8s/epoch - 556ms/step\n",
      "Epoch 36/100\n",
      "\n",
      "Epoch 36: val_loss did not improve from 1.65031\n",
      "14/14 - 8s - loss: 2.0072 - accuracy: 0.2601 - val_loss: 1.9340 - val_accuracy: 0.2188 - 8s/epoch - 557ms/step\n",
      "Epoch 37/100\n",
      "\n",
      "Epoch 37: val_loss did not improve from 1.65031\n",
      "14/14 - 8s - loss: 2.0098 - accuracy: 0.2701 - val_loss: 1.8525 - val_accuracy: 0.1719 - 8s/epoch - 553ms/step\n",
      "Epoch 38/100\n",
      "\n",
      "Epoch 38: val_loss did not improve from 1.65031\n",
      "14/14 - 8s - loss: 2.0056 - accuracy: 0.2969 - val_loss: 1.7260 - val_accuracy: 0.4062 - 8s/epoch - 550ms/step\n",
      "Epoch 39/100\n",
      "\n",
      "Epoch 39: val_loss did not improve from 1.65031\n",
      "14/14 - 8s - loss: 2.0742 - accuracy: 0.3013 - val_loss: 1.7023 - val_accuracy: 0.3125 - 8s/epoch - 553ms/step\n",
      "Epoch 40/100\n",
      "\n",
      "Epoch 40: val_loss did not improve from 1.65031\n",
      "14/14 - 8s - loss: 1.9045 - accuracy: 0.2946 - val_loss: 1.7229 - val_accuracy: 0.3281 - 8s/epoch - 567ms/step\n",
      "Epoch 41/100\n",
      "\n",
      "Epoch 41: val_loss did not improve from 1.65031\n",
      "14/14 - 8s - loss: 1.9068 - accuracy: 0.3069 - val_loss: 1.7263 - val_accuracy: 0.2812 - 8s/epoch - 554ms/step\n",
      "Epoch 42/100\n",
      "\n",
      "Epoch 42: val_loss did not improve from 1.65031\n",
      "14/14 - 8s - loss: 1.8712 - accuracy: 0.3426 - val_loss: 1.8313 - val_accuracy: 0.2031 - 8s/epoch - 556ms/step\n",
      "Epoch 43/100\n",
      "\n",
      "Epoch 43: val_loss did not improve from 1.65031\n",
      "14/14 - 8s - loss: 1.8677 - accuracy: 0.2969 - val_loss: 1.7398 - val_accuracy: 0.2500 - 8s/epoch - 554ms/step\n",
      "Epoch 44/100\n",
      "\n",
      "Epoch 44: val_loss did not improve from 1.65031\n",
      "14/14 - 8s - loss: 1.8293 - accuracy: 0.3025 - val_loss: 1.7403 - val_accuracy: 0.2969 - 8s/epoch - 554ms/step\n",
      "Epoch 45/100\n",
      "\n",
      "Epoch 45: val_loss did not improve from 1.65031\n",
      "14/14 - 8s - loss: 1.8479 - accuracy: 0.3103 - val_loss: 1.8538 - val_accuracy: 0.2344 - 8s/epoch - 558ms/step\n",
      "Epoch 46/100\n",
      "\n",
      "Epoch 46: val_loss did not improve from 1.65031\n",
      "14/14 - 8s - loss: 1.8923 - accuracy: 0.3304 - val_loss: 1.6558 - val_accuracy: 0.3125 - 8s/epoch - 553ms/step\n",
      "Epoch 47/100\n",
      "\n",
      "Epoch 47: val_loss improved from 1.65031 to 1.59235, saving model to weights_min_loss.hdf5\n"
     ]
    },
    {
     "name": "stdout",
     "output_type": "stream",
     "text": [
      "14/14 - 8s - loss: 1.8471 - accuracy: 0.3049 - val_loss: 1.5924 - val_accuracy: 0.3906 - 8s/epoch - 564ms/step\n",
      "Epoch 48/100\n",
      "\n",
      "Epoch 48: val_loss did not improve from 1.59235\n",
      "14/14 - 8s - loss: 1.7900 - accuracy: 0.3627 - val_loss: 1.6220 - val_accuracy: 0.4219 - 8s/epoch - 557ms/step\n",
      "Epoch 49/100\n",
      "\n",
      "Epoch 49: val_loss did not improve from 1.59235\n",
      "14/14 - 8s - loss: 1.8679 - accuracy: 0.2902 - val_loss: 1.9858 - val_accuracy: 0.2500 - 8s/epoch - 553ms/step\n",
      "Epoch 50/100\n",
      "\n",
      "Epoch 50: val_loss did not improve from 1.59235\n",
      "14/14 - 8s - loss: 1.8867 - accuracy: 0.3438 - val_loss: 2.0378 - val_accuracy: 0.2500 - 8s/epoch - 555ms/step\n",
      "Epoch 51/100\n",
      "\n",
      "Epoch 51: val_loss did not improve from 1.59235\n",
      "14/14 - 8s - loss: 1.7644 - accuracy: 0.3482 - val_loss: 1.7037 - val_accuracy: 0.2656 - 8s/epoch - 552ms/step\n",
      "Epoch 52/100\n",
      "\n",
      "Epoch 52: val_loss did not improve from 1.59235\n",
      "14/14 - 8s - loss: 1.7996 - accuracy: 0.3080 - val_loss: 1.7906 - val_accuracy: 0.3125 - 8s/epoch - 555ms/step\n",
      "Epoch 53/100\n",
      "\n",
      "Epoch 53: val_loss improved from 1.59235 to 1.41218, saving model to weights_min_loss.hdf5\n",
      "14/14 - 8s - loss: 1.8535 - accuracy: 0.3426 - val_loss: 1.4122 - val_accuracy: 0.4844 - 8s/epoch - 568ms/step\n",
      "Epoch 54/100\n",
      "\n",
      "Epoch 54: val_loss did not improve from 1.41218\n",
      "14/14 - 8s - loss: 1.7489 - accuracy: 0.3393 - val_loss: 1.9191 - val_accuracy: 0.3281 - 8s/epoch - 549ms/step\n",
      "Epoch 55/100\n",
      "\n",
      "Epoch 55: val_loss did not improve from 1.41218\n",
      "14/14 - 8s - loss: 1.8182 - accuracy: 0.3382 - val_loss: 1.8524 - val_accuracy: 0.2969 - 8s/epoch - 574ms/step\n",
      "Epoch 56/100\n",
      "\n",
      "Epoch 56: val_loss did not improve from 1.41218\n",
      "14/14 - 8s - loss: 1.8411 - accuracy: 0.3359 - val_loss: 1.9577 - val_accuracy: 0.3438 - 8s/epoch - 558ms/step\n",
      "Epoch 57/100\n",
      "\n",
      "Epoch 57: val_loss did not improve from 1.41218\n",
      "14/14 - 8s - loss: 1.8576 - accuracy: 0.3326 - val_loss: 1.8997 - val_accuracy: 0.3594 - 8s/epoch - 553ms/step\n",
      "Epoch 58/100\n",
      "\n",
      "Epoch 58: val_loss did not improve from 1.41218\n",
      "14/14 - 8s - loss: 1.8995 - accuracy: 0.3103 - val_loss: 2.0060 - val_accuracy: 0.2188 - 8s/epoch - 553ms/step\n",
      "Epoch 59/100\n",
      "\n",
      "Epoch 59: val_loss did not improve from 1.41218\n",
      "14/14 - 8s - loss: 1.8202 - accuracy: 0.3170 - val_loss: 3.0914 - val_accuracy: 0.4219 - 8s/epoch - 553ms/step\n",
      "Epoch 60/100\n",
      "\n",
      "Epoch 60: val_loss did not improve from 1.41218\n",
      "14/14 - 8s - loss: 1.8094 - accuracy: 0.3538 - val_loss: 1.7273 - val_accuracy: 0.3281 - 8s/epoch - 550ms/step\n",
      "Epoch 61/100\n",
      "\n",
      "Epoch 61: val_loss did not improve from 1.41218\n",
      "14/14 - 8s - loss: 1.8597 - accuracy: 0.3225 - val_loss: 10.6800 - val_accuracy: 0.2344 - 8s/epoch - 551ms/step\n",
      "Epoch 62/100\n",
      "\n",
      "Epoch 62: val_loss did not improve from 1.41218\n",
      "14/14 - 8s - loss: 1.8142 - accuracy: 0.3393 - val_loss: 32.7600 - val_accuracy: 0.1719 - 8s/epoch - 555ms/step\n",
      "Epoch 63/100\n",
      "\n",
      "Epoch 63: val_loss did not improve from 1.41218\n",
      "14/14 - 8s - loss: 1.8431 - accuracy: 0.3248 - val_loss: 20.5122 - val_accuracy: 0.1719 - 8s/epoch - 565ms/step\n",
      "Epoch 64/100\n",
      "\n",
      "Epoch 64: val_loss did not improve from 1.41218\n",
      "14/14 - 8s - loss: 1.7450 - accuracy: 0.3449 - val_loss: 8.3375 - val_accuracy: 0.1875 - 8s/epoch - 558ms/step\n",
      "Epoch 65/100\n",
      "\n",
      "Epoch 65: val_loss did not improve from 1.41218\n",
      "14/14 - 8s - loss: 1.8276 - accuracy: 0.3304 - val_loss: 2.5317 - val_accuracy: 0.2344 - 8s/epoch - 554ms/step\n",
      "Epoch 66/100\n",
      "\n",
      "Epoch 66: val_loss did not improve from 1.41218\n",
      "14/14 - 8s - loss: 1.7828 - accuracy: 0.3270 - val_loss: 1.6481 - val_accuracy: 0.3594 - 8s/epoch - 555ms/step\n",
      "Epoch 67/100\n",
      "\n",
      "Epoch 67: val_loss did not improve from 1.41218\n",
      "14/14 - 8s - loss: 1.7207 - accuracy: 0.3560 - val_loss: 1.7069 - val_accuracy: 0.2969 - 8s/epoch - 554ms/step\n",
      "Epoch 68/100\n",
      "\n",
      "Epoch 68: val_loss did not improve from 1.41218\n",
      "14/14 - 8s - loss: 1.7373 - accuracy: 0.3382 - val_loss: 1.6954 - val_accuracy: 0.3281 - 8s/epoch - 552ms/step\n",
      "Epoch 69/100\n",
      "\n",
      "Epoch 69: val_loss improved from 1.41218 to 1.40144, saving model to weights_min_loss.hdf5\n",
      "14/14 - 8s - loss: 1.7262 - accuracy: 0.3795 - val_loss: 1.4014 - val_accuracy: 0.4531 - 8s/epoch - 588ms/step\n",
      "Epoch 70/100\n",
      "\n",
      "Epoch 70: val_loss did not improve from 1.40144\n",
      "14/14 - 8s - loss: 1.7547 - accuracy: 0.3504 - val_loss: 1.5062 - val_accuracy: 0.3438 - 8s/epoch - 555ms/step\n",
      "Epoch 71/100\n",
      "\n",
      "Epoch 71: val_loss did not improve from 1.40144\n",
      "14/14 - 8s - loss: 1.6741 - accuracy: 0.3527 - val_loss: 1.6878 - val_accuracy: 0.2656 - 8s/epoch - 564ms/step\n",
      "Epoch 72/100\n",
      "\n",
      "Epoch 72: val_loss did not improve from 1.40144\n",
      "14/14 - 8s - loss: 1.7127 - accuracy: 0.3795 - val_loss: 2.9771 - val_accuracy: 0.2500 - 8s/epoch - 573ms/step\n",
      "Epoch 73/100\n",
      "\n",
      "Epoch 73: val_loss did not improve from 1.40144\n",
      "14/14 - 8s - loss: 1.7138 - accuracy: 0.3772 - val_loss: 1.7649 - val_accuracy: 0.3438 - 8s/epoch - 580ms/step\n",
      "Epoch 74/100\n",
      "\n",
      "Epoch 74: val_loss did not improve from 1.40144\n",
      "14/14 - 8s - loss: 1.7501 - accuracy: 0.3516 - val_loss: 3.8569 - val_accuracy: 0.4062 - 8s/epoch - 572ms/step\n",
      "Epoch 75/100\n",
      "\n",
      "Epoch 75: val_loss did not improve from 1.40144\n",
      "14/14 - 8s - loss: 1.8012 - accuracy: 0.3281 - val_loss: 1.8590 - val_accuracy: 0.2344 - 8s/epoch - 554ms/step\n",
      "Epoch 76/100\n",
      "\n",
      "Epoch 76: val_loss did not improve from 1.40144\n",
      "14/14 - 8s - loss: 1.6874 - accuracy: 0.3672 - val_loss: 1.7357 - val_accuracy: 0.3750 - 8s/epoch - 564ms/step\n",
      "Epoch 77/100\n",
      "\n",
      "Epoch 77: val_loss did not improve from 1.40144\n",
      "14/14 - 9s - loss: 1.7145 - accuracy: 0.3560 - val_loss: 2.4091 - val_accuracy: 0.4375 - 9s/epoch - 607ms/step\n",
      "Epoch 78/100\n",
      "\n",
      "Epoch 78: val_loss did not improve from 1.40144\n",
      "14/14 - 9s - loss: 1.6920 - accuracy: 0.3705 - val_loss: 1.6450 - val_accuracy: 0.3594 - 9s/epoch - 648ms/step\n",
      "Epoch 79/100\n",
      "\n",
      "Epoch 79: val_loss did not improve from 1.40144\n",
      "14/14 - 8s - loss: 1.7370 - accuracy: 0.3516 - val_loss: 1.5572 - val_accuracy: 0.4688 - 8s/epoch - 577ms/step\n",
      "Epoch 80/100\n",
      "\n",
      "Epoch 80: val_loss did not improve from 1.40144\n",
      "14/14 - 9s - loss: 1.7175 - accuracy: 0.3315 - val_loss: 2.7100 - val_accuracy: 0.3438 - 9s/epoch - 634ms/step\n",
      "Epoch 81/100\n",
      "\n",
      "Epoch 81: val_loss did not improve from 1.40144\n",
      "14/14 - 8s - loss: 1.7162 - accuracy: 0.3650 - val_loss: 1.7114 - val_accuracy: 0.3594 - 8s/epoch - 593ms/step\n",
      "Epoch 82/100\n",
      "\n",
      "Epoch 82: val_loss did not improve from 1.40144\n",
      "14/14 - 8s - loss: 1.6828 - accuracy: 0.3739 - val_loss: 1.6309 - val_accuracy: 0.3125 - 8s/epoch - 603ms/step\n",
      "Epoch 83/100\n",
      "\n",
      "Epoch 83: val_loss did not improve from 1.40144\n",
      "14/14 - 8s - loss: 1.6882 - accuracy: 0.3705 - val_loss: 1.8202 - val_accuracy: 0.4062 - 8s/epoch - 594ms/step\n",
      "Epoch 84/100\n",
      "\n",
      "Epoch 84: val_loss did not improve from 1.40144\n",
      "14/14 - 8s - loss: 1.6797 - accuracy: 0.3259 - val_loss: 1.6600 - val_accuracy: 0.3125 - 8s/epoch - 577ms/step\n",
      "Epoch 85/100\n",
      "\n",
      "Epoch 85: val_loss did not improve from 1.40144\n",
      "14/14 - 9s - loss: 1.6869 - accuracy: 0.3504 - val_loss: 1.8789 - val_accuracy: 0.3125 - 9s/epoch - 608ms/step\n",
      "Epoch 86/100\n",
      "\n",
      "Epoch 86: val_loss improved from 1.40144 to 1.34109, saving model to weights_min_loss.hdf5\n",
      "14/14 - 9s - loss: 1.7492 - accuracy: 0.3493 - val_loss: 1.3411 - val_accuracy: 0.5156 - 9s/epoch - 611ms/step\n",
      "Epoch 87/100\n",
      "\n",
      "Epoch 87: val_loss did not improve from 1.34109\n",
      "14/14 - 8s - loss: 1.6756 - accuracy: 0.3426 - val_loss: 1.7293 - val_accuracy: 0.2969 - 8s/epoch - 555ms/step\n",
      "Epoch 88/100\n",
      "\n",
      "Epoch 88: val_loss did not improve from 1.34109\n",
      "14/14 - 8s - loss: 1.6893 - accuracy: 0.3583 - val_loss: 1.6216 - val_accuracy: 0.3906 - 8s/epoch - 568ms/step\n",
      "Epoch 89/100\n",
      "\n",
      "Epoch 89: val_loss did not improve from 1.34109\n",
      "14/14 - 8s - loss: 1.6422 - accuracy: 0.3650 - val_loss: 1.9507 - val_accuracy: 0.3438 - 8s/epoch - 557ms/step\n",
      "Epoch 90/100\n",
      "\n",
      "Epoch 90: val_loss did not improve from 1.34109\n",
      "14/14 - 8s - loss: 1.5872 - accuracy: 0.3817 - val_loss: 1.8055 - val_accuracy: 0.2188 - 8s/epoch - 578ms/step\n",
      "Epoch 91/100\n",
      "\n",
      "Epoch 91: val_loss did not improve from 1.34109\n",
      "14/14 - 8s - loss: 1.5663 - accuracy: 0.3862 - val_loss: 1.7496 - val_accuracy: 0.3594 - 8s/epoch - 562ms/step\n",
      "Epoch 92/100\n",
      "\n",
      "Epoch 92: val_loss did not improve from 1.34109\n",
      "14/14 - 8s - loss: 1.5775 - accuracy: 0.3683 - val_loss: 1.7698 - val_accuracy: 0.3438 - 8s/epoch - 572ms/step\n",
      "Epoch 93/100\n",
      "\n",
      "Epoch 93: val_loss did not improve from 1.34109\n",
      "14/14 - 8s - loss: 1.5985 - accuracy: 0.3839 - val_loss: 1.9587 - val_accuracy: 0.2500 - 8s/epoch - 593ms/step\n"
     ]
    },
    {
     "name": "stdout",
     "output_type": "stream",
     "text": [
      "Epoch 94/100\n",
      "\n",
      "Epoch 94: val_loss did not improve from 1.34109\n",
      "14/14 - 8s - loss: 1.5685 - accuracy: 0.4029 - val_loss: 1.7205 - val_accuracy: 0.4688 - 8s/epoch - 602ms/step\n",
      "Epoch 95/100\n",
      "\n",
      "Epoch 95: val_loss did not improve from 1.34109\n",
      "14/14 - 9s - loss: 1.5328 - accuracy: 0.4152 - val_loss: 1.7086 - val_accuracy: 0.2812 - 9s/epoch - 607ms/step\n",
      "Epoch 96/100\n",
      "\n",
      "Epoch 96: val_loss did not improve from 1.34109\n",
      "14/14 - 8s - loss: 1.5964 - accuracy: 0.3795 - val_loss: 1.4710 - val_accuracy: 0.4531 - 8s/epoch - 592ms/step\n",
      "Epoch 97/100\n",
      "\n",
      "Epoch 97: val_loss did not improve from 1.34109\n",
      "14/14 - 8s - loss: 1.5530 - accuracy: 0.4007 - val_loss: 1.5351 - val_accuracy: 0.3594 - 8s/epoch - 580ms/step\n",
      "Epoch 98/100\n",
      "\n",
      "Epoch 98: val_loss did not improve from 1.34109\n",
      "14/14 - 8s - loss: 1.5770 - accuracy: 0.3962 - val_loss: 1.7325 - val_accuracy: 0.4062 - 8s/epoch - 586ms/step\n",
      "Epoch 99/100\n",
      "\n",
      "Epoch 99: val_loss did not improve from 1.34109\n",
      "14/14 - 8s - loss: 1.5824 - accuracy: 0.4085 - val_loss: 1.5751 - val_accuracy: 0.3906 - 8s/epoch - 603ms/step\n",
      "Epoch 100/100\n",
      "\n",
      "Epoch 100: val_loss did not improve from 1.34109\n",
      "14/14 - 8s - loss: 1.6206 - accuracy: 0.3717 - val_loss: 1.5881 - val_accuracy: 0.3594 - 8s/epoch - 605ms/step\n"
     ]
    }
   ],
   "source": [
    "from tensorflow.keras.optimizers import Adam\n",
    "from tensorflow.keras.losses import categorical_crossentropy\n",
    "\n",
    "# Assuming you have already defined your model using the FER_Model function\n",
    "model = FER_Model(input_shape=(48, 48, 1))\n",
    "\n",
    "# Compile the model\n",
    "model.compile(optimizer=Adam(learning_rate=0.001),\n",
    "              loss=categorical_crossentropy,\n",
    "              metrics=['accuracy'])\n",
    "\n",
    "# Assuming train_flow and test_flow are defined and properly configured\n",
    "num_epochs = 100\n",
    "batch_size = 32  # Set this to your actual batch size\n",
    "\n",
    "# Use the fit method instead of fit_generator\n",
    "history = model.fit(\n",
    "    train_flow,\n",
    "    steps_per_epoch=len(train_flow) // batch_size,  # using // for integer division\n",
    "    epochs=num_epochs,\n",
    "    verbose=2,\n",
    "    callbacks=callbacks_list,  # make sure callbacks_list is defined earlier in your code\n",
    "    validation_data=test_flow,\n",
    "    validation_steps=len(test_flow) // batch_size\n",
    ")"
   ]
  },
  {
   "cell_type": "markdown",
   "metadata": {},
   "source": [
    "### for testing"
   ]
  },
  {
   "cell_type": "code",
   "execution_count": 31,
   "metadata": {
    "execution": {
     "iopub.execute_input": "2021-11-01T18:03:44.378161Z",
     "iopub.status.busy": "2021-11-01T18:03:44.37782Z",
     "iopub.status.idle": "2021-11-01T18:03:44.760521Z",
     "shell.execute_reply": "2021-11-01T18:03:44.759582Z",
     "shell.execute_reply.started": "2021-11-01T18:03:44.378127Z"
    }
   },
   "outputs": [
    {
     "data": {
      "text/plain": [
       "<Figure size 640x480 with 0 Axes>"
      ]
     },
     "execution_count": 31,
     "metadata": {},
     "output_type": "execute_result"
    },
    {
     "data": {
      "image/png": "[encoded data removed]",
      "text/plain": [
       "<Figure size 640x480 with 1 Axes>"
      ]
     },
     "metadata": {},
     "output_type": "display_data"
    },
    {
     "data": {
      "image/png": "[encoded data removed]",
      "text/plain": [
       "<Figure size 640x480 with 1 Axes>"
      ]
     },
     "metadata": {},
     "output_type": "display_data"
    },
    {
     "data": {
      "text/plain": [
       "<Figure size 640x480 with 0 Axes>"
      ]
     },
     "metadata": {},
     "output_type": "display_data"
    }
   ],
   "source": [
    "%matplotlib inline\n",
    "\n",
    "train_loss=history.history['loss']\n",
    "val_loss=history.history['val_loss']\n",
    "train_acc=history.history['accuracy']\n",
    "val_acc=history.history['val_accuracy']\n",
    "\n",
    "epochs = range(len(train_acc))\n",
    "\n",
    "plt.plot(epochs,train_loss,'r', label='train_loss')\n",
    "plt.plot(epochs,val_loss,'b', label='val_loss')\n",
    "plt.title('train_loss vs val_loss')\n",
    "plt.xlabel('epoch')\n",
    "plt.ylabel('loss')\n",
    "plt.legend()\n",
    "plt.figure()\n",
    "\n",
    "plt.plot(epochs,train_acc,'r', label='train_acc')\n",
    "plt.plot(epochs,val_acc,'b', label='val_acc')\n",
    "plt.title('train_acc vs val_acc')\n",
    "plt.xlabel('epoch')\n",
    "plt.ylabel('accuracy')\n",
    "plt.legend()\n",
    "plt.figure()"
   ]
  },
  {
   "cell_type": "code",
   "execution_count": 32,
   "metadata": {
    "execution": {
     "iopub.execute_input": "2021-08-13T16:37:00.590609Z",
     "iopub.status.busy": "2021-08-13T16:37:00.590203Z",
     "iopub.status.idle": "2021-08-13T16:37:00.947277Z",
     "shell.execute_reply": "2021-08-13T16:37:00.946354Z",
     "shell.execute_reply.started": "2021-08-13T16:37:00.590574Z"
    }
   },
   "outputs": [],
   "source": [
    "model.save('Fer2013.h5')\n"
   ]
  },
  {
   "cell_type": "code",
   "execution_count": 33,
   "metadata": {
    "execution": {
     "iopub.execute_input": "2021-11-01T18:28:52.364488Z",
     "iopub.status.busy": "2021-11-01T18:28:52.364131Z",
     "iopub.status.idle": "2021-11-01T18:28:52.433146Z",
     "shell.execute_reply": "2021-11-01T18:28:52.431702Z",
     "shell.execute_reply.started": "2021-11-01T18:28:52.364393Z"
    }
   },
   "outputs": [
    {
     "name": "stdout",
     "output_type": "stream",
     "text": [
      "113/113 [==============================] - 10s 83ms/step - loss: 1.5496 - accuracy: 0.3909\n",
      "Test Loss 1.549628734588623\n",
      "Test Acc: 0.3909166753292084\n"
     ]
    }
   ],
   "source": [
    "loss = model.evaluate(X_test/255., y_test) \n",
    "print(\"Test Loss \" + str(loss[0]))\n",
    "print(\"Test Acc: \" + str(loss[1]))"
   ]
  },
  {
   "cell_type": "code",
   "execution_count": 35,
   "metadata": {
    "execution": {
     "iopub.status.busy": "2021-11-01T18:28:52.43841Z",
     "iopub.status.idle": "2021-11-01T18:28:52.438796Z"
    }
   },
   "outputs": [
    {
     "name": "stdout",
     "output_type": "stream",
     "text": [
      "Saved model to disk\n"
     ]
    }
   ],
   "source": [
    "model_json = model.to_json()\n",
    "with open(\"model.json\", \"w\") as json_file:\n",
    "    json_file.write(model_json)\n",
    "model.save_weights(\"model.h5\")\n",
    "print(\"Saved model to disk\")"
   ]
  },
  {
   "cell_type": "code",
   "execution_count": null,
   "metadata": {},
   "outputs": [],
   "source": []
  }
 ],
 "metadata": {
  "kernelspec": {
   "display_name": "Python 3 (ipykernel)",
   "language": "python",
   "name": "python3"
  },
  "language_info": {
   "codemirror_mode": {
    "name": "ipython",
    "version": 3
   },
   "file_extension": ".py",
   "mimetype": "text/x-python",
   "name": "python",
   "nbconvert_exporter": "python",
   "pygments_lexer": "ipython3",
   "version": "3.11.5"
  }
 },
 "nbformat": 4,
 "nbformat_minor": 4
}
